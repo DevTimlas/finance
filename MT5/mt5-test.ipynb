{
 "cells": [
  {
   "cell_type": "code",
   "execution_count": 25,
   "id": "1b2047b2-a863-4582-a3b1-f79e6164f608",
   "metadata": {
    "execution": {
     "iopub.execute_input": "2024-07-27T17:12:49.356711Z",
     "iopub.status.busy": "2024-07-27T17:12:49.355448Z",
     "iopub.status.idle": "2024-07-27T17:14:07.771488Z",
     "shell.execute_reply": "2024-07-27T17:14:07.770387Z",
     "shell.execute_reply.started": "2024-07-27T17:12:49.356649Z"
    },
    "scrolled": true
   },
   "outputs": [
    {
     "name": "stdout",
     "output_type": "stream",
     "text": [
      "\u001b[33mWARNING: Retrying (Retry(total=4, connect=None, read=None, redirect=None, status=None)) after connection broken by 'ConnectTimeoutError(<pip._vendor.urllib3.connection.HTTPSConnection object at 0x107845fd0>, 'Connection to pypi.org timed out. (connect timeout=15)')': /simple/agency-swarm/\u001b[0m\u001b[33m\n",
      "\u001b[0m\u001b[33mWARNING: Retrying (Retry(total=3, connect=None, read=None, redirect=None, status=None)) after connection broken by 'ConnectTimeoutError(<pip._vendor.urllib3.connection.HTTPSConnection object at 0x107857950>, 'Connection to pypi.org timed out. (connect timeout=15)')': /simple/agency-swarm/\u001b[0m\u001b[33m\n",
      "\u001b[0m\u001b[33mWARNING: Retrying (Retry(total=2, connect=None, read=None, redirect=None, status=None)) after connection broken by 'ConnectTimeoutError(<pip._vendor.urllib3.connection.HTTPSConnection object at 0x10785cfd0>, 'Connection to pypi.org timed out. (connect timeout=15)')': /simple/agency-swarm/\u001b[0m\u001b[33m\n",
      "\u001b[0mCollecting agency_swarm\n",
      "  Downloading agency_swarm-0.2.6-py3-none-any.whl.metadata (12 kB)\n",
      "Collecting openai==1.35.14 (from agency_swarm)\n",
      "  Downloading openai-1.35.14-py3-none-any.whl.metadata (21 kB)\n",
      "Collecting instructor==1.3.4 (from agency_swarm)\n",
      "  Downloading instructor-1.3.4-py3-none-any.whl.metadata (14 kB)\n",
      "Collecting datamodel-code-generator==0.25.8 (from agency_swarm)\n",
      "  Downloading datamodel_code_generator-0.25.8-py3-none-any.whl.metadata (24 kB)\n",
      "Collecting deepdiff==6.7.1 (from agency_swarm)\n",
      "  Downloading deepdiff-6.7.1-py3-none-any.whl.metadata (6.1 kB)\n",
      "Requirement already satisfied: termcolor==2.4.0 in /opt/anaconda3/lib/python3.11/site-packages (from agency_swarm) (2.4.0)\n",
      "Collecting python-dotenv==1.0.1 (from agency_swarm)\n",
      "  Using cached python_dotenv-1.0.1-py3-none-any.whl.metadata (23 kB)\n",
      "Collecting rich==13.7.1 (from agency_swarm)\n",
      "  Using cached rich-13.7.1-py3-none-any.whl.metadata (18 kB)\n",
      "Collecting jsonref==1.1.0 (from agency_swarm)\n",
      "  Downloading jsonref-1.1.0-py3-none-any.whl.metadata (2.7 kB)\n",
      "Collecting argcomplete<4.0,>=1.10 (from datamodel-code-generator==0.25.8->agency_swarm)\n",
      "  Downloading argcomplete-3.4.0-py3-none-any.whl.metadata (16 kB)\n",
      "Requirement already satisfied: black>=19.10b0 in /opt/anaconda3/lib/python3.11/site-packages (from datamodel-code-generator==0.25.8->agency_swarm) (23.11.0)\n",
      "Collecting genson<2.0,>=1.2.1 (from datamodel-code-generator==0.25.8->agency_swarm)\n",
      "  Downloading genson-1.3.0-py3-none-any.whl.metadata (28 kB)\n",
      "Collecting inflect<6.0,>=4.1.0 (from datamodel-code-generator==0.25.8->agency_swarm)\n",
      "  Downloading inflect-5.6.2-py3-none-any.whl.metadata (21 kB)\n",
      "Requirement already satisfied: isort<6.0,>=4.3.21 in /opt/anaconda3/lib/python3.11/site-packages (from datamodel-code-generator==0.25.8->agency_swarm) (5.9.3)\n",
      "Requirement already satisfied: jinja2<4.0,>=2.10.1 in /opt/anaconda3/lib/python3.11/site-packages (from datamodel-code-generator==0.25.8->agency_swarm) (3.1.3)\n",
      "Requirement already satisfied: packaging in /opt/anaconda3/lib/python3.11/site-packages (from datamodel-code-generator==0.25.8->agency_swarm) (23.2)\n",
      "Requirement already satisfied: pydantic!=2.4.0,<3.0,>=1.10.0 in /opt/anaconda3/lib/python3.11/site-packages (from pydantic[email]!=2.4.0,<3.0,>=1.10.0; python_version >= \"3.11\" and python_version < \"4.0\"->datamodel-code-generator==0.25.8->agency_swarm) (1.10.12)\n",
      "Requirement already satisfied: pyyaml>=6.0.1 in /opt/anaconda3/lib/python3.11/site-packages (from datamodel-code-generator==0.25.8->agency_swarm) (6.0.1)\n",
      "Collecting ordered-set<4.2.0,>=4.0.2 (from deepdiff==6.7.1->agency_swarm)\n",
      "  Downloading ordered_set-4.1.0-py3-none-any.whl.metadata (5.3 kB)\n",
      "Requirement already satisfied: aiohttp<4.0.0,>=3.9.1 in /opt/anaconda3/lib/python3.11/site-packages (from instructor==1.3.4->agency_swarm) (3.9.3)\n",
      "Collecting docstring-parser<0.17,>=0.16 (from instructor==1.3.4->agency_swarm)\n",
      "  Using cached docstring_parser-0.16-py3-none-any.whl.metadata (3.0 kB)\n",
      "Collecting jiter<0.5.0,>=0.4.1 (from instructor==1.3.4->agency_swarm)\n",
      "  Downloading jiter-0.4.2-cp311-cp311-macosx_11_0_arm64.whl.metadata (3.6 kB)\n",
      "Collecting pydantic!=2.4.0,<3.0,>=1.10.0 (from pydantic[email]!=2.4.0,<3.0,>=1.10.0; python_version >= \"3.11\" and python_version < \"4.0\"->datamodel-code-generator==0.25.8->agency_swarm)\n",
      "  Downloading pydantic-2.8.2-py3-none-any.whl.metadata (125 kB)\n",
      "\u001b[2K     \u001b[90m━━━━━━━━━━━━━━━━━━━━━━━━━━━━━━━━━━━━━\u001b[0m \u001b[32m125.2/125.2 kB\u001b[0m \u001b[31m270.2 kB/s\u001b[0m eta \u001b[36m0:00:00\u001b[0m00:01\u001b[0m00:01\u001b[0m\n",
      "\u001b[?25hRequirement already satisfied: pydantic-core<3.0.0,>=2.18.0 in /opt/anaconda3/lib/python3.11/site-packages (from instructor==1.3.4->agency_swarm) (2.18.0)\n",
      "Collecting tenacity<9.0.0,>=8.2.3 (from instructor==1.3.4->agency_swarm)\n",
      "  Downloading tenacity-8.5.0-py3-none-any.whl.metadata (1.2 kB)\n",
      "Requirement already satisfied: typer<1.0.0,>=0.9.0 in /opt/anaconda3/lib/python3.11/site-packages (from instructor==1.3.4->agency_swarm) (0.12.1)\n",
      "Requirement already satisfied: anyio<5,>=3.5.0 in /opt/anaconda3/lib/python3.11/site-packages (from openai==1.35.14->agency_swarm) (3.7.1)\n",
      "Requirement already satisfied: distro<2,>=1.7.0 in /opt/anaconda3/lib/python3.11/site-packages (from openai==1.35.14->agency_swarm) (1.8.0)\n",
      "Requirement already satisfied: httpx<1,>=0.23.0 in /opt/anaconda3/lib/python3.11/site-packages (from openai==1.35.14->agency_swarm) (0.27.0)\n",
      "Requirement already satisfied: sniffio in /opt/anaconda3/lib/python3.11/site-packages (from openai==1.35.14->agency_swarm) (1.3.0)\n",
      "Requirement already satisfied: tqdm>4 in /opt/anaconda3/lib/python3.11/site-packages (from openai==1.35.14->agency_swarm) (4.65.0)\n",
      "Requirement already satisfied: typing-extensions<5,>=4.7 in /opt/anaconda3/lib/python3.11/site-packages (from openai==1.35.14->agency_swarm) (4.9.0)\n",
      "Requirement already satisfied: markdown-it-py>=2.2.0 in /opt/anaconda3/lib/python3.11/site-packages (from rich==13.7.1->agency_swarm) (2.2.0)\n",
      "Requirement already satisfied: pygments<3.0.0,>=2.13.0 in /opt/anaconda3/lib/python3.11/site-packages (from rich==13.7.1->agency_swarm) (2.15.1)\n",
      "Requirement already satisfied: aiosignal>=1.1.2 in /opt/anaconda3/lib/python3.11/site-packages (from aiohttp<4.0.0,>=3.9.1->instructor==1.3.4->agency_swarm) (1.2.0)\n",
      "Requirement already satisfied: attrs>=17.3.0 in /opt/anaconda3/lib/python3.11/site-packages (from aiohttp<4.0.0,>=3.9.1->instructor==1.3.4->agency_swarm) (23.1.0)\n",
      "Requirement already satisfied: frozenlist>=1.1.1 in /opt/anaconda3/lib/python3.11/site-packages (from aiohttp<4.0.0,>=3.9.1->instructor==1.3.4->agency_swarm) (1.4.0)\n",
      "Requirement already satisfied: multidict<7.0,>=4.5 in /opt/anaconda3/lib/python3.11/site-packages (from aiohttp<4.0.0,>=3.9.1->instructor==1.3.4->agency_swarm) (6.0.4)\n",
      "Requirement already satisfied: yarl<2.0,>=1.0 in /opt/anaconda3/lib/python3.11/site-packages (from aiohttp<4.0.0,>=3.9.1->instructor==1.3.4->agency_swarm) (1.9.3)\n",
      "Requirement already satisfied: idna>=2.8 in /opt/anaconda3/lib/python3.11/site-packages (from anyio<5,>=3.5.0->openai==1.35.14->agency_swarm) (3.4)\n",
      "Requirement already satisfied: click>=8.0.0 in /opt/anaconda3/lib/python3.11/site-packages (from black>=19.10b0->datamodel-code-generator==0.25.8->agency_swarm) (8.1.7)\n",
      "Requirement already satisfied: mypy-extensions>=0.4.3 in /opt/anaconda3/lib/python3.11/site-packages (from black>=19.10b0->datamodel-code-generator==0.25.8->agency_swarm) (1.0.0)\n",
      "Requirement already satisfied: pathspec>=0.9.0 in /opt/anaconda3/lib/python3.11/site-packages (from black>=19.10b0->datamodel-code-generator==0.25.8->agency_swarm) (0.12.1)\n",
      "Requirement already satisfied: platformdirs>=2 in /opt/anaconda3/lib/python3.11/site-packages (from black>=19.10b0->datamodel-code-generator==0.25.8->agency_swarm) (3.10.0)\n",
      "Requirement already satisfied: certifi in /opt/anaconda3/lib/python3.11/site-packages (from httpx<1,>=0.23.0->openai==1.35.14->agency_swarm) (2024.2.2)\n",
      "Requirement already satisfied: httpcore==1.* in /opt/anaconda3/lib/python3.11/site-packages (from httpx<1,>=0.23.0->openai==1.35.14->agency_swarm) (1.0.5)\n",
      "Requirement already satisfied: h11<0.15,>=0.13 in /opt/anaconda3/lib/python3.11/site-packages (from httpcore==1.*->httpx<1,>=0.23.0->openai==1.35.14->agency_swarm) (0.14.0)\n",
      "Requirement already satisfied: MarkupSafe>=2.0 in /opt/anaconda3/lib/python3.11/site-packages (from jinja2<4.0,>=2.10.1->datamodel-code-generator==0.25.8->agency_swarm) (2.1.3)\n",
      "Requirement already satisfied: mdurl~=0.1 in /opt/anaconda3/lib/python3.11/site-packages (from markdown-it-py>=2.2.0->rich==13.7.1->agency_swarm) (0.1.0)\n",
      "Collecting annotated-types>=0.4.0 (from pydantic!=2.4.0,<3.0,>=1.10.0->pydantic[email]!=2.4.0,<3.0,>=1.10.0; python_version >= \"3.11\" and python_version < \"4.0\"->datamodel-code-generator==0.25.8->agency_swarm)\n",
      "  Downloading annotated_types-0.7.0-py3-none-any.whl.metadata (15 kB)\n",
      "Collecting pydantic-core<3.0.0,>=2.18.0 (from instructor==1.3.4->agency_swarm)\n",
      "  Downloading pydantic_core-2.20.1-cp311-cp311-macosx_11_0_arm64.whl.metadata (6.6 kB)\n",
      "INFO: pip is looking at multiple versions of pydantic[email] to determine which version is compatible with other requirements. This could take a while.\n",
      "Requirement already satisfied: email-validator>=2.0.0 in /opt/anaconda3/lib/python3.11/site-packages (from pydantic[email]!=2.4.0,<3.0,>=1.10.0; python_version >= \"3.11\" and python_version < \"4.0\"->datamodel-code-generator==0.25.8->agency_swarm) (2.1.1)\n",
      "Requirement already satisfied: shellingham>=1.3.0 in /opt/anaconda3/lib/python3.11/site-packages (from typer<1.0.0,>=0.9.0->instructor==1.3.4->agency_swarm) (1.5.4)\n",
      "Requirement already satisfied: dnspython>=2.0.0 in /opt/anaconda3/lib/python3.11/site-packages (from email-validator>=2.0.0->pydantic[email]!=2.4.0,<3.0,>=1.10.0; python_version >= \"3.11\" and python_version < \"4.0\"->datamodel-code-generator==0.25.8->agency_swarm) (2.6.1)\n",
      "Downloading agency_swarm-0.2.6-py3-none-any.whl (106 kB)\n",
      "\u001b[2K   \u001b[90m━━━━━━━━━━━━━━━━━━━━━━━━━━━━━━━━━━━━━━━━\u001b[0m \u001b[32m106.3/106.3 kB\u001b[0m \u001b[31m1.0 MB/s\u001b[0m eta \u001b[36m0:00:00\u001b[0m \u001b[36m0:00:01\u001b[0m\n",
      "\u001b[?25hDownloading datamodel_code_generator-0.25.8-py3-none-any.whl (110 kB)\n",
      "\u001b[2K   \u001b[90m━━━━━━━━━━━━━━━━━━━━━━━━━━━━━━━━━━━━━━━\u001b[0m \u001b[32m110.5/110.5 kB\u001b[0m \u001b[31m739.1 kB/s\u001b[0m eta \u001b[36m0:00:00\u001b[0ma \u001b[36m0:00:01\u001b[0m\n",
      "\u001b[?25hDownloading deepdiff-6.7.1-py3-none-any.whl (76 kB)\n",
      "\u001b[2K   \u001b[90m━━━━━━━━━━━━━━━━━━━━━━━━━━━━━━━━━━━━━━━━\u001b[0m \u001b[32m76.6/76.6 kB\u001b[0m \u001b[31m5.8 MB/s\u001b[0m eta \u001b[36m0:00:00\u001b[0m\n",
      "\u001b[?25hDownloading instructor-1.3.4-py3-none-any.whl (53 kB)\n",
      "\u001b[2K   \u001b[90m━━━━━━━━━━━━━━━━━━━━━━━━━━━━━━━━━━━━━━━━\u001b[0m \u001b[32m53.1/53.1 kB\u001b[0m \u001b[31m606.8 kB/s\u001b[0m eta \u001b[36m0:00:00\u001b[0ma \u001b[36m0:00:01\u001b[0m\n",
      "\u001b[?25hDownloading jsonref-1.1.0-py3-none-any.whl (9.4 kB)\n",
      "Downloading openai-1.35.14-py3-none-any.whl (328 kB)\n",
      "\u001b[2K   \u001b[90m━━━━━━━━━━━━━━━━━━━━━━━━━━━━━━━━━━━━━━━\u001b[0m \u001b[32m328.5/328.5 kB\u001b[0m \u001b[31m714.2 kB/s\u001b[0m eta \u001b[36m0:00:00\u001b[0ma \u001b[36m0:00:01\u001b[0m\n",
      "\u001b[?25hUsing cached python_dotenv-1.0.1-py3-none-any.whl (19 kB)\n",
      "Using cached rich-13.7.1-py3-none-any.whl (240 kB)\n",
      "Downloading argcomplete-3.4.0-py3-none-any.whl (42 kB)\n",
      "\u001b[2K   \u001b[90m━━━━━━━━━━━━━━━━━━━━━━━━━━━━━━━━━━━━━━━━\u001b[0m \u001b[32m42.6/42.6 kB\u001b[0m \u001b[31m643.2 kB/s\u001b[0m eta \u001b[36m0:00:00\u001b[0ma \u001b[36m0:00:01\u001b[0m\n",
      "\u001b[?25hUsing cached docstring_parser-0.16-py3-none-any.whl (36 kB)\n",
      "Downloading genson-1.3.0-py3-none-any.whl (21 kB)\n",
      "Downloading inflect-5.6.2-py3-none-any.whl (33 kB)\n",
      "Downloading jiter-0.4.2-cp311-cp311-macosx_11_0_arm64.whl (313 kB)\n",
      "\u001b[2K   \u001b[90m━━━━━━━━━━━━━━━━━━━━━━━━━━━━━━━━━━━━━━━\u001b[0m \u001b[32m313.3/313.3 kB\u001b[0m \u001b[31m711.9 kB/s\u001b[0m eta \u001b[36m0:00:00\u001b[0m00:01\u001b[0m00:01\u001b[0m\n",
      "\u001b[?25hDownloading ordered_set-4.1.0-py3-none-any.whl (7.6 kB)\n",
      "Downloading pydantic-2.8.2-py3-none-any.whl (423 kB)\n",
      "\u001b[2K   \u001b[90m━━━━━━━━━━━━━━━━━━━━━━━━━━━━━━━━━━━━━━━\u001b[0m \u001b[32m423.9/423.9 kB\u001b[0m \u001b[31m764.5 kB/s\u001b[0m eta \u001b[36m0:00:00\u001b[0ma \u001b[36m0:00:01\u001b[0m\n",
      "\u001b[?25hDownloading pydantic_core-2.20.1-cp311-cp311-macosx_11_0_arm64.whl (1.8 MB)\n",
      "\u001b[2K   \u001b[90m━━━━━━━━━━━━━━━━━━━━━━━━━━━━━━━━━━━━━━━━\u001b[0m \u001b[32m1.8/1.8 MB\u001b[0m \u001b[31m890.0 kB/s\u001b[0m eta \u001b[36m0:00:00\u001b[0m00:01\u001b[0m00:01\u001b[0m\n",
      "\u001b[?25hDownloading tenacity-8.5.0-py3-none-any.whl (28 kB)\n",
      "Downloading annotated_types-0.7.0-py3-none-any.whl (13 kB)\n",
      "Installing collected packages: genson, tenacity, python-dotenv, pydantic-core, ordered-set, jsonref, jiter, inflect, docstring-parser, argcomplete, annotated-types, rich, pydantic, deepdiff, openai, instructor, datamodel-code-generator, agency_swarm\n",
      "  Attempting uninstall: tenacity\n",
      "    Found existing installation: tenacity 8.2.2\n",
      "    Uninstalling tenacity-8.2.2:\n",
      "      Successfully uninstalled tenacity-8.2.2\n",
      "  Attempting uninstall: python-dotenv\n",
      "    Found existing installation: python-dotenv 0.21.0\n",
      "    Uninstalling python-dotenv-0.21.0:\n",
      "      Successfully uninstalled python-dotenv-0.21.0\n",
      "  Attempting uninstall: pydantic-core\n",
      "    Found existing installation: pydantic_core 2.18.0\n",
      "    Uninstalling pydantic_core-2.18.0:\n",
      "      Successfully uninstalled pydantic_core-2.18.0\n",
      "  Attempting uninstall: rich\n",
      "    Found existing installation: rich 13.3.5\n",
      "    Uninstalling rich-13.3.5:\n",
      "      Successfully uninstalled rich-13.3.5\n",
      "  Attempting uninstall: pydantic\n",
      "    Found existing installation: pydantic 1.10.12\n",
      "    Uninstalling pydantic-1.10.12:\n",
      "      Successfully uninstalled pydantic-1.10.12\n",
      "  Attempting uninstall: openai\n",
      "    Found existing installation: openai 1.9.0\n",
      "    Uninstalling openai-1.9.0:\n",
      "      Successfully uninstalled openai-1.9.0\n",
      "\u001b[31mERROR: pip's dependency resolver does not currently take into account all the packages that are installed. This behaviour is the source of the following dependency conflicts.\n",
      "anaconda-cloud-auth 0.1.4 requires pydantic<2.0, but you have pydantic 2.8.2 which is incompatible.\n",
      "llama-index 0.9.36 requires nltk<4.0.0,>=3.8.1, but you have nltk 3.8 which is incompatible.\u001b[0m\u001b[31m\n",
      "\u001b[0mSuccessfully installed agency_swarm-0.2.6 annotated-types-0.7.0 argcomplete-3.4.0 datamodel-code-generator-0.25.8 deepdiff-6.7.1 docstring-parser-0.16 genson-1.3.0 inflect-5.6.2 instructor-1.3.4 jiter-0.4.2 jsonref-1.1.0 openai-1.35.14 ordered-set-4.1.0 pydantic-2.8.2 pydantic-core-2.20.1 python-dotenv-1.0.1 rich-13.7.1 tenacity-8.5.0\n"
     ]
    }
   ],
   "source": [
    "!pip install agency_swarm"
   ]
  },
  {
   "cell_type": "code",
   "execution_count": 37,
   "id": "1582482b-72eb-4e0e-b122-4703300bb1df",
   "metadata": {
    "execution": {
     "iopub.execute_input": "2024-07-27T23:48:28.397793Z",
     "iopub.status.busy": "2024-07-27T23:48:28.397023Z",
     "iopub.status.idle": "2024-07-27T23:48:40.904132Z",
     "shell.execute_reply": "2024-07-27T23:48:40.902729Z",
     "shell.execute_reply.started": "2024-07-27T23:48:28.397741Z"
    }
   },
   "outputs": [
    {
     "name": "stdout",
     "output_type": "stream",
     "text": [
      "THREAD:[ user -> CEO ]: URL https://platform.openai.com/playground/assistants?assistant=asst_aAUdf88kGfly8L6PQlylcGam&mode=assistant&thread=thread_4CB74yRhdKav3DoQASqVwylV\n"
     ]
    },
    {
     "ename": "KeyboardInterrupt",
     "evalue": "",
     "output_type": "error",
     "traceback": [
      "\u001b[0;31m---------------------------------------------------------------------------\u001b[0m",
      "\u001b[0;31mKeyboardInterrupt\u001b[0m                         Traceback (most recent call last)",
      "Cell \u001b[0;32mIn[37], line 20\u001b[0m\n\u001b[1;32m      5\u001b[0m ceo \u001b[38;5;241m=\u001b[39m Agent(name\u001b[38;5;241m=\u001b[39m\u001b[38;5;124m\"\u001b[39m\u001b[38;5;124mCEO\u001b[39m\u001b[38;5;124m\"\u001b[39m,\n\u001b[1;32m      6\u001b[0m             description\u001b[38;5;241m=\u001b[39m\u001b[38;5;124m\"\u001b[39m\u001b[38;5;124mResponsible for client communication, task planning and management.\u001b[39m\u001b[38;5;124m\"\u001b[39m,\n\u001b[1;32m      7\u001b[0m             instructions\u001b[38;5;241m=\u001b[39m\u001b[38;5;124m\"\u001b[39m\u001b[38;5;124mYou must converse with other agents to ensure complete task execution.\u001b[39m\u001b[38;5;124m\"\u001b[39m, \u001b[38;5;66;03m# can be a file like ./instructions.md\u001b[39;00m\n\u001b[0;32m   (...)\u001b[0m\n\u001b[1;32m     13\u001b[0m             model\u001b[38;5;241m=\u001b[39m\u001b[38;5;124m'\u001b[39m\u001b[38;5;124mgpt-4\u001b[39m\u001b[38;5;124m'\u001b[39m\n\u001b[1;32m     14\u001b[0m             )\n\u001b[1;32m     16\u001b[0m agency \u001b[38;5;241m=\u001b[39m Agency([\n\u001b[1;32m     17\u001b[0m     ceo,  \u001b[38;5;66;03m# CEO will be the entry point for communication with the user\u001b[39;00m\n\u001b[1;32m     18\u001b[0m ], shared_instructions\u001b[38;5;241m=\u001b[39m\u001b[38;5;124m'\u001b[39m\u001b[38;5;124mYou are a part of an ai development agency.\u001b[39m\u001b[38;5;130;01m\\n\u001b[39;00m\u001b[38;5;130;01m\\n\u001b[39;00m\u001b[38;5;124m'\u001b[39m) \u001b[38;5;66;03m# shared instructions for all agents\u001b[39;00m\n\u001b[0;32m---> 20\u001b[0m completion_output \u001b[38;5;241m=\u001b[39m agency\u001b[38;5;241m.\u001b[39mget_completion(\u001b[38;5;124m\"\u001b[39m\u001b[38;5;124mPlease make a write up on creating a new website for our client.\u001b[39m\u001b[38;5;124m\"\u001b[39m, yield_messages\u001b[38;5;241m=\u001b[39m\u001b[38;5;28;01mFalse\u001b[39;00m)\n",
      "File \u001b[0;32m/opt/anaconda3/lib/python3.11/site-packages/agency_swarm/agency/agency.py:157\u001b[0m, in \u001b[0;36mAgency.get_completion\u001b[0;34m(self, message, message_files, yield_messages, recipient_agent, additional_instructions, attachments, tool_choice)\u001b[0m\n\u001b[1;32m    155\u001b[0m \u001b[38;5;28;01mwhile\u001b[39;00m \u001b[38;5;28;01mTrue\u001b[39;00m:\n\u001b[1;32m    156\u001b[0m     \u001b[38;5;28;01mtry\u001b[39;00m:\n\u001b[0;32m--> 157\u001b[0m         \u001b[38;5;28mnext\u001b[39m(res)\n\u001b[1;32m    158\u001b[0m     \u001b[38;5;28;01mexcept\u001b[39;00m \u001b[38;5;167;01mStopIteration\u001b[39;00m \u001b[38;5;28;01mas\u001b[39;00m e:\n\u001b[1;32m    159\u001b[0m         \u001b[38;5;28;01mreturn\u001b[39;00m e\u001b[38;5;241m.\u001b[39mvalue\n",
      "File \u001b[0;32m/opt/anaconda3/lib/python3.11/site-packages/agency_swarm/threads/thread.py:123\u001b[0m, in \u001b[0;36mThread.get_completion\u001b[0;34m(self, message, message_files, attachments, recipient_agent, additional_instructions, event_handler, tool_choice, yield_messages)\u001b[0m\n\u001b[1;32m    120\u001b[0m \u001b[38;5;28;01mif\u001b[39;00m yield_messages:\n\u001b[1;32m    121\u001b[0m     \u001b[38;5;28;01myield\u001b[39;00m MessageOutput(\u001b[38;5;124m\"\u001b[39m\u001b[38;5;124mtext\u001b[39m\u001b[38;5;124m\"\u001b[39m, \u001b[38;5;28mself\u001b[39m\u001b[38;5;241m.\u001b[39magent\u001b[38;5;241m.\u001b[39mname, recipient_agent\u001b[38;5;241m.\u001b[39mname, message, message_obj)\n\u001b[0;32m--> 123\u001b[0m \u001b[38;5;28mself\u001b[39m\u001b[38;5;241m.\u001b[39m_create_run(recipient_agent, additional_instructions, event_handler, tool_choice)\n\u001b[1;32m    125\u001b[0m error_attempts \u001b[38;5;241m=\u001b[39m \u001b[38;5;241m0\u001b[39m\n\u001b[1;32m    126\u001b[0m validation_attempts \u001b[38;5;241m=\u001b[39m \u001b[38;5;241m0\u001b[39m\n",
      "File \u001b[0;32m/opt/anaconda3/lib/python3.11/site-packages/agency_swarm/threads/thread.py:331\u001b[0m, in \u001b[0;36mThread._create_run\u001b[0;34m(self, recipient_agent, additional_instructions, event_handler, tool_choice, temperature)\u001b[0m\n\u001b[1;32m    319\u001b[0m \u001b[38;5;28;01melse\u001b[39;00m:\n\u001b[1;32m    320\u001b[0m     \u001b[38;5;28mself\u001b[39m\u001b[38;5;241m.\u001b[39mrun \u001b[38;5;241m=\u001b[39m \u001b[38;5;28mself\u001b[39m\u001b[38;5;241m.\u001b[39mclient\u001b[38;5;241m.\u001b[39mbeta\u001b[38;5;241m.\u001b[39mthreads\u001b[38;5;241m.\u001b[39mruns\u001b[38;5;241m.\u001b[39mcreate(\n\u001b[1;32m    321\u001b[0m         thread_id\u001b[38;5;241m=\u001b[39m\u001b[38;5;28mself\u001b[39m\u001b[38;5;241m.\u001b[39mthread\u001b[38;5;241m.\u001b[39mid,\n\u001b[1;32m    322\u001b[0m         assistant_id\u001b[38;5;241m=\u001b[39mrecipient_agent\u001b[38;5;241m.\u001b[39mid,\n\u001b[0;32m   (...)\u001b[0m\n\u001b[1;32m    329\u001b[0m         parallel_tool_calls\u001b[38;5;241m=\u001b[39mrecipient_agent\u001b[38;5;241m.\u001b[39mparallel_tool_calls\n\u001b[1;32m    330\u001b[0m     )\n\u001b[0;32m--> 331\u001b[0m     \u001b[38;5;28mself\u001b[39m\u001b[38;5;241m.\u001b[39mrun \u001b[38;5;241m=\u001b[39m \u001b[38;5;28mself\u001b[39m\u001b[38;5;241m.\u001b[39mclient\u001b[38;5;241m.\u001b[39mbeta\u001b[38;5;241m.\u001b[39mthreads\u001b[38;5;241m.\u001b[39mruns\u001b[38;5;241m.\u001b[39mpoll(\n\u001b[1;32m    332\u001b[0m         thread_id\u001b[38;5;241m=\u001b[39m\u001b[38;5;28mself\u001b[39m\u001b[38;5;241m.\u001b[39mthread\u001b[38;5;241m.\u001b[39mid,\n\u001b[1;32m    333\u001b[0m         run_id\u001b[38;5;241m=\u001b[39m\u001b[38;5;28mself\u001b[39m\u001b[38;5;241m.\u001b[39mrun\u001b[38;5;241m.\u001b[39mid,\n\u001b[1;32m    334\u001b[0m         \u001b[38;5;66;03m# poll_interval_ms=500,\u001b[39;00m\n\u001b[1;32m    335\u001b[0m     )\n",
      "File \u001b[0;32m/opt/anaconda3/lib/python3.11/site-packages/openai/resources/beta/threads/runs/runs.py:1143\u001b[0m, in \u001b[0;36mRuns.poll\u001b[0;34m(self, run_id, thread_id, extra_headers, extra_query, extra_body, timeout, poll_interval_ms)\u001b[0m\n\u001b[1;32m   1140\u001b[0m     \u001b[38;5;28;01melse\u001b[39;00m:\n\u001b[1;32m   1141\u001b[0m         poll_interval_ms \u001b[38;5;241m=\u001b[39m \u001b[38;5;241m1000\u001b[39m\n\u001b[0;32m-> 1143\u001b[0m \u001b[38;5;28mself\u001b[39m\u001b[38;5;241m.\u001b[39m_sleep(poll_interval_ms \u001b[38;5;241m/\u001b[39m \u001b[38;5;241m1000\u001b[39m)\n",
      "File \u001b[0;32m/opt/anaconda3/lib/python3.11/site-packages/openai/_resource.py:27\u001b[0m, in \u001b[0;36mSyncAPIResource._sleep\u001b[0;34m(self, seconds)\u001b[0m\n\u001b[1;32m     26\u001b[0m \u001b[38;5;28;01mdef\u001b[39;00m \u001b[38;5;21m_sleep\u001b[39m(\u001b[38;5;28mself\u001b[39m, seconds: \u001b[38;5;28mfloat\u001b[39m) \u001b[38;5;241m-\u001b[39m\u001b[38;5;241m>\u001b[39m \u001b[38;5;28;01mNone\u001b[39;00m:\n\u001b[0;32m---> 27\u001b[0m     time\u001b[38;5;241m.\u001b[39msleep(seconds)\n",
      "\u001b[0;31mKeyboardInterrupt\u001b[0m: "
     ]
    }
   ],
   "source": [
    "from agency_swarm import Agent, Agency\n",
    "from agency_swarm import set_openai_key\n",
    "set_openai_key(openai_api_key)\n",
    "\n",
    "ceo = Agent(name=\"CEO\",\n",
    "            description=\"Responsible for client communication, task planning and management.\",\n",
    "            instructions=\"You must converse with other agents to ensure complete task execution.\", # can be a file like ./instructions.md\n",
    "            # files_folder=\"./files\", # files to be uploaded to OpenAI\n",
    "            # schemas_folder=\"./schemas\", # OpenAPI schemas to be converted into tools\n",
    "            # tools=[MyCustomTool], \n",
    "            temperature=0.5, # temperature for the agent\n",
    "            max_prompt_tokens=25000, # max tokens in conversation history\n",
    "            model='gpt-4'\n",
    "            )\n",
    "\n",
    "agency = Agency([\n",
    "    ceo,  # CEO will be the entry point for communication with the user\n",
    "], shared_instructions='You are a part of an ai development agency.\\n\\n') # shared instructions for all agents\n",
    "\n",
    "completion_output = agency.get_completion(\"Please make a write up on creating a new website for our client.\", yield_messages=False)"
   ]
  },
  {
   "cell_type": "code",
   "execution_count": 34,
   "id": "13626dc7-47c0-40eb-9083-1642793aa20a",
   "metadata": {
    "execution": {
     "iopub.execute_input": "2024-07-27T17:31:46.297910Z",
     "iopub.status.busy": "2024-07-27T17:31:46.297231Z",
     "iopub.status.idle": "2024-07-27T17:31:46.304997Z",
     "shell.execute_reply": "2024-07-27T17:31:46.303908Z",
     "shell.execute_reply.started": "2024-07-27T17:31:46.297868Z"
    },
    "scrolled": true
   },
   "outputs": [
    {
     "data": {
      "text/plain": [
       "\"Certainly! Here is a detailed write-up on creating a new website for our client:\\n\\n---\\n\\n# Project Proposal: Creating a New Website for [Client's Name]\\n\\n## 1. Introduction\\n\\nIn today's digital age, a professional and user-friendly website is essential for any business looking to establish a strong online presence. [Client's Name] has recognized the need for a new website to enhance their brand visibility, improve user engagement, and drive business growth. This proposal outlines the steps and considerations involved in creating a new website for [Client's Name].\\n\\n## 2. Objectives\\n\\nThe primary objectives of the new website are:\\n\\n1. **Enhance Brand Identity**: Create a visually appealing and cohesive design that reflects [Client's Name]'s brand values and identity.\\n2. **Improve User Experience (UX)**: Ensure intuitive navigation, fast loading times, and mobile responsiveness to provide a seamless experience for all users.\\n3. **Increase Engagement**: Incorporate features and content that encourage user interaction and engagement.\\n4. **Boost Conversion Rates**: Optimize the website for lead generation and sales conversion.\\n5. **SEO Optimization**: Implement best practices for search engine optimization to increase organic traffic.\\n\\n## 3. Project Scope\\n\\n### 3.1. Discovery and Planning\\n\\n- **Client Consultation**: Gather detailed requirements and expectations from [Client's Name].\\n- **Market Research**: Analyze competitors and industry trends to inform design and functionality decisions.\\n- **Target Audience**: Define the target audience to tailor the website's content and design.\\n- **Sitemap and Wireframes**: Develop a sitemap and wireframes to outline the website's structure and layout.\\n\\n### 3.2. Design\\n\\n- **Branding**: Ensure the design aligns with [Client's Name]'s branding guidelines, including logo, color scheme, and typography.\\n- **User Interface (UI) Design**: Create visually appealing and user-friendly designs for all pages.\\n- **Responsive Design**: Ensure the website is fully responsive and looks great on all devices, including desktops, tablets, and smartphones.\\n- **Prototyping**: Develop interactive prototypes to demonstrate the website's functionality and design.\\n\\n### 3.3. Development\\n\\n- **Front-End Development**: Convert the design into a functional website using HTML, CSS, and JavaScript.\\n- **Back-End Development**: Set up the server, database, and any necessary back-end functionalities using appropriate technologies (e.g., PHP, Python, Node.js).\\n- **Content Management System (CMS)**: Implement a CMS (e.g., WordPress, Drupal) to allow [Client's Name] to easily manage and update website content.\\n- **E-Commerce Integration**: If applicable, integrate e-commerce functionalities, including product listings, shopping cart, and payment gateways.\\n\\n### 3.4. Content Creation\\n\\n- **Copywriting**: Develop compelling and SEO-friendly content for all pages, including the homepage, about us, services, and blog.\\n- **Multimedia**: Incorporate high-quality images, videos, and graphics to enhance user engagement.\\n\\n### 3.5. Testing\\n\\n- **Functionality Testing**: Ensure all features and functionalities work as intended.\\n- **Usability Testing**: Conduct usability testing to identify and address any user experience issues.\\n- **Performance Testing**: Optimize the website for speed and performance.\\n- **Cross-Browser Testing**: Ensure compatibility with all major browsers (e.g., Chrome, Firefox, Safari, Edge).\\n\\n### 3.6. Launch\\n\\n- **Pre-Launch Checklist**: Perform a final review to ensure everything is in place for a successful launch.\\n- **Deployment**: Deploy the website to the live server.\\n- **Post-Launch Support**: Provide ongoing support and maintenance to address any issues and ensure the website remains up-to-date.\\n\\n## 4. Timeline\\n\\n| Phase               | Duration          |\\n|---------------------|-------------------|\\n| Discovery & Planning| 2 weeks           |\\n| Design              | 3 weeks           |\\n| Development         | 6 weeks           |\\n| Content Creation    | 3 weeks (overlapping with Development) |\\n| Testing             | 2 weeks           |\\n| Launch              | 1 week            |\\n\\n**Total Duration**: Approximately 12-14 weeks\\n\\n## 5. Budget\\n\\nThe estimated budget for the website project is [$X,XXX]. This includes:\\n\\n- Design and Development: [$X,XXX]\\n- Content Creation: [$X,XXX]\\n- Testing: [$X,XXX]\\n- Post-Launch Support: [$X,XXX]\\n\\n## 6. Conclusion\\n\\nCreating a new website for [Client's Name] is a strategic investment that will enhance their online presence, improve user experience, and drive business growth. Our team is committed to delivering a high-quality website that meets [Client's Name]'s objectives and exceeds their expectations.\\n\\nWe look forward to the opportunity to work with [Client's Name] on this exciting project.\\n\\n---\\n\\nIf you have any specific details or additional requirements from the client, please let me know, and I can adjust the proposal accordingly.\""
      ]
     },
     "execution_count": 34,
     "metadata": {},
     "output_type": "execute_result"
    }
   ],
   "source": [
    "completion_output"
   ]
  },
  {
   "cell_type": "code",
   "execution_count": null,
   "id": "3f39f962-6c88-4b0b-b817-313801223bc1",
   "metadata": {},
   "outputs": [],
   "source": []
  }
 ],
 "metadata": {
  "kernelspec": {
   "display_name": "Python [conda env:root] *",
   "language": "python",
   "name": "conda-root-py"
  },
  "language_info": {
   "codemirror_mode": {
    "name": "ipython",
    "version": 3
   },
   "file_extension": ".py",
   "mimetype": "text/x-python",
   "name": "python",
   "nbconvert_exporter": "python",
   "pygments_lexer": "ipython3",
   "version": "3.11.7"
  }
 },
 "nbformat": 4,
 "nbformat_minor": 5
}
